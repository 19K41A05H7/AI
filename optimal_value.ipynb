{
  "nbformat": 4,
  "nbformat_minor": 0,
  "metadata": {
    "colab": {
      "name": "optimal value.ipynb",
      "provenance": [],
      "authorship_tag": "ABX9TyPG1YFXgvcsrtvmUQsL0gJE",
      "include_colab_link": true
    },
    "kernelspec": {
      "name": "python3",
      "display_name": "Python 3"
    },
    "language_info": {
      "name": "python"
    }
  },
  "cells": [
    {
      "cell_type": "markdown",
      "metadata": {
        "id": "view-in-github",
        "colab_type": "text"
      },
      "source": [
        "<a href=\"https://colab.research.google.com/github/19K41A05H7/AI/blob/main/optimal_value.ipynb\" target=\"_parent\"><img src=\"https://colab.research.google.com/assets/colab-badge.svg\" alt=\"Open In Colab\"/></a>"
      ]
    },
    {
      "cell_type": "code",
      "metadata": {
        "colab": {
          "base_uri": "https://localhost:8080/"
        },
        "id": "BAgeXGHf2kwl",
        "outputId": "08ee71fc-8776-43e8-af6a-d181aac591ea"
      },
      "source": [
        "from scipy.optimize import linprog\n",
        "pro = [-50,-120]\n",
        "row1 = [[7000,2000],[10,30],[1,1]]\n",
        "row2 = [700000,1200,110]\n",
        "boundery = [(0,float('inf')),(0,float('inf'))]\n",
        "opt = linprog(c = pro,A_ub = row1,b_ub = row2,bounds = boundery,method = \"Simplex\")\n",
        "print(opt.x)"
      ],
      "execution_count": 4,
      "outputs": [
        {
          "output_type": "stream",
          "text": [
            "[97.89473684  7.36842105]\n"
          ],
          "name": "stdout"
        }
      ]
    }
  ]
}