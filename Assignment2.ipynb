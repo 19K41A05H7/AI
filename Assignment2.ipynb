{
  "nbformat": 4,
  "nbformat_minor": 0,
  "metadata": {
    "colab": {
      "name": "Assignment2.ipynb",
      "provenance": [],
      "authorship_tag": "ABX9TyP5vNVsB0EbL7jgs6TTO5Ja",
      "include_colab_link": true
    },
    "kernelspec": {
      "name": "python3",
      "display_name": "Python 3"
    },
    "language_info": {
      "name": "python"
    }
  },
  "cells": [
    {
      "cell_type": "markdown",
      "metadata": {
        "id": "view-in-github",
        "colab_type": "text"
      },
      "source": [
        "<a href=\"https://colab.research.google.com/github/19K41A05H7/AI/blob/main/Assignment2.ipynb\" target=\"_parent\"><img src=\"https://colab.research.google.com/assets/colab-badge.svg\" alt=\"Open In Colab\"/></a>"
      ]
    },
    {
      "cell_type": "code",
      "metadata": {
        "colab": {
          "base_uri": "https://localhost:8080/"
        },
        "id": "3W4e8w3UzAQO",
        "outputId": "a1c93b40-10c6-4829-ea11-91982a8bf18f"
      },
      "source": [
        "import numpy as np\n",
        "x=np.random.uniform(-10,10)\n",
        "eta=0.001\n",
        "iter_max=300\n",
        "iter=1\n",
        "while iter<=iter_max :\n",
        " slope = 4*x*x*x + 6*x\n",
        " step_length = (-eta) * slope\n",
        " x=x+step_length\n",
        " iter=iter+1 \n",
        "print(\"control variable = \",round(x))\n",
        "obj = ((x*x*x*x)+(3*x*x)+10)\n",
        "print(\"objective function = \",round(obj))"
      ],
      "execution_count": 1,
      "outputs": [
        {
          "output_type": "stream",
          "name": "stdout",
          "text": [
            "control variable =  0\n",
            "objective function =  10\n"
          ]
        }
      ]
    }
  ]
}